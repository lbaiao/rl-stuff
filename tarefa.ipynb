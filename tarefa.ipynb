{
 "nbformat": 4,
 "nbformat_minor": 2,
 "metadata": {
  "language_info": {
   "name": "python",
   "codemirror_mode": {
    "name": "ipython",
    "version": 3
   },
   "version": "3.7.5-final"
  },
  "orig_nbformat": 2,
  "file_extension": ".py",
  "mimetype": "text/x-python",
  "name": "python",
  "npconvert_exporter": "python",
  "pygments_lexer": "ipython3",
  "version": 3,
  "kernelspec": {
   "name": "python37564bita14175d2031447f79880e35aa3dfad5d",
   "display_name": "Python 3.7.5 64-bit"
  }
 },
 "cells": [
  {
   "cell_type": "markdown",
   "metadata": {},
   "source": [
    "# Tarefa\n",
    "__________\n",
    "Resolver o problema do rato utilizando Q-Table. Você deve programar o ambiente e o algoritmo de Reinforcement Learning.\n",
    "\n",
    "![alt text](./rato.png \"Rato\")\n",
    "\n",
    "Sobre o ambiente:\n",
    "  * O episódio deve terminar quando o rato alcançar a pilha de queijos ou tomar o veneno.\n",
    "  * O objetivo é fazer com que o rato pegue todos os queijos do mapa sem tomar o veneno.\n",
    "  * As ações devem ser mover o rato, em 1 casa, para cima, baixo, esquerda e direita.\n",
    "  * O rato está confinado no espaço de 6 casas, conforme a imagem abaixo.\n",
    "\n",
    "Dicas:\n",
    "  * É possível completar toda a tarefa utilizando apenas numpy.\n",
    "  * Ler sobre Q-Learning na referência \\[1\\].\n",
    "  * Representar o mapa como uma matriz.\n",
    "\n",
    "Tabela Q sugerida:\n",
    "\n",
    "![alt text](./tabela.png \"Q-Table\")\n",
    "\n",
    "Referências:\n",
    "\n",
    "1. PALANISAMY, Praveen. Hands-On Intelligent Agents with OpenAI Gym: Your guide to   developing AI agents using deep reinforcement learning. Packt Publishing Ltd, 2018."
   ]
  },
  {
   "cell_type": "markdown",
   "metadata": {},
   "source": [
    "# Entrega\n",
    "___________\n",
    "\n",
    "Prazo: **22/02**\n",
    "\n",
    "Enviar para **lbpires@latam.stefanini.com**"
   ]
  },
  {
   "cell_type": "markdown",
   "metadata": {},
   "source": [
    "# Código\n",
    "____"
   ]
  },
  {
   "cell_type": "code",
   "execution_count": null,
   "metadata": {},
   "outputs": [],
   "source": []
  }
 ]
}